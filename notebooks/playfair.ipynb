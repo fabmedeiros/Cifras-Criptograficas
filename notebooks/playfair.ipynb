{
 "cells": [
  {
   "cell_type": "code",
   "execution_count": 12,
   "metadata": {
    "tags": []
   },
   "outputs": [
    {
     "data": {
      "application/vnd.jupyter.widget-view+json": {
       "model_id": "7e5cfe408b57406ca7a8d73e43b91d1f",
       "version_major": 2,
       "version_minor": 0
      },
      "text/plain": [
       "Text(value=' ', description='Texto cifrado: ', placeholder='Alguma coisa')"
      ]
     },
     "metadata": {},
     "output_type": "display_data"
    },
    {
     "data": {
      "application/vnd.jupyter.widget-view+json": {
       "model_id": "c8ee300a8aca4a06a769b0251c5ef711",
       "version_major": 2,
       "version_minor": 0
      },
      "text/plain": [
       "Text(value=' ', description='Senha: ', placeholder='Alguma coisa')"
      ]
     },
     "metadata": {},
     "output_type": "display_data"
    },
    {
     "data": {
      "application/vnd.jupyter.widget-view+json": {
       "model_id": "0c3cfc5be1cb4621a6424b45f9680c20",
       "version_major": 2,
       "version_minor": 0
      },
      "text/plain": [
       "Button(description='Decifrar', style=ButtonStyle())"
      ]
     },
     "metadata": {},
     "output_type": "display_data"
    },
    {
     "data": {
      "application/vnd.jupyter.widget-view+json": {
       "model_id": "165c8d764a8d43fea747d1a20de1317a",
       "version_major": 2,
       "version_minor": 0
      },
      "text/plain": [
       "Label(value='')"
      ]
     },
     "metadata": {},
     "output_type": "display_data"
    }
   ],
   "source": [
    "import sys\n",
    "\n",
    "sys.path.append('..')\n",
    "\n",
    "from ciphers import Playfair\n",
    "import ipywidgets as widgets\n",
    "from IPython.display import display\n",
    "\n",
    "text = 'WQ EM YK HK CS UP LD FR UP ZP IK TA RK LE TR LS YS QX TR SU EF CS DK GZ'\n",
    "cifra = Playfair()\n",
    "\n",
    "txt_cifrado = widgets.Text(\n",
    "    value = ' ',\n",
    "    placeholder = 'Alguma coisa',\n",
    "    description = 'Texto cifrado: ',\n",
    "    disabled = False\n",
    ")\n",
    "txt_senha = widgets.Text(\n",
    "    value = ' ',\n",
    "    placeholder = 'Alguma coisa',\n",
    "    description = 'Senha: ',\n",
    "    disabled = False\n",
    ")\n",
    "txt_saida = widgets.Label()\n",
    "btn_decifrar = widgets.Button(description = 'Decifrar')\n",
    "\n",
    "def btn_click(obj):\n",
    "    print(txt_cifrado.value)\n",
    "    print(type(txt_cifrado.value))\n",
    "    print(type(txt_senha.value))\n",
    "    txt_saida.value = cifra.decrypt(txt_cifrado.value, txt_senha.value)\n",
    "\n",
    "btn_decifrar.on_click(btn_click)    \n",
    "\n",
    "display(txt_cifrado)\n",
    "display(txt_senha)\n",
    "display(btn_decifrar)\n",
    "display(txt_saida)"
   ]
  },
  {
   "cell_type": "code",
   "execution_count": null,
   "metadata": {},
   "outputs": [],
   "source": []
  }
 ],
 "metadata": {
  "kernelspec": {
   "display_name": "Python 3 (ipykernel)",
   "language": "python",
   "name": "python3"
  },
  "language_info": {
   "codemirror_mode": {
    "name": "ipython",
    "version": 3
   },
   "file_extension": ".py",
   "mimetype": "text/x-python",
   "name": "python",
   "nbconvert_exporter": "python",
   "pygments_lexer": "ipython3",
   "version": "3.10.9"
  },
  "vscode": {
   "interpreter": {
    "hash": "3bd13bc16400e16874b7ce28af58a129343287e94248a182c1f06fbb6b76ef8e"
   }
  }
 },
 "nbformat": 4,
 "nbformat_minor": 4
}
